{
 "cells": [
  {
   "cell_type": "code",
   "execution_count": 1,
   "metadata": {},
   "outputs": [],
   "source": [
    "from sklearn.ensemble import RandomForestClassifier\n",
    "from sklearn.metrics import f1_score, recall_score, precision_score\n",
    "from sklearn.model_selection import train_test_split\n",
    "\n",
    "import pandas as pd\n",
    "\n",
    "import matplotlib.pyplot as plt\n",
    "%matplotlib inline"
   ]
  },
  {
   "cell_type": "markdown",
   "metadata": {},
   "source": [
    "***\n",
    "# Baseline Model training and testing\n",
    "### In this phase we extract the benign and malicious samples from the DReLAB dataset. The samples are then used to train the baseline model based on RandomForestClassifier. In this way, we obtain a high-performance botnet classifier, capable to effectively detect the botnet traffic for the selected botnet.\n",
    "\n",
    "### Possible dataset choices: **\"CTU\", \"BOTNET\", \"CICIDS2018\"**\n",
    "#### Possible Botnet choices according to the dataset:\n",
    "- CTU:\n",
    "    - \"Neris\"\n",
    "    - \"Rbot\"\n",
    "    - \"Virut\"\n",
    "    - \"Menti\"\n",
    "    - \"Murlo\"\n",
    "    \n",
    "- CICIDS2018:\n",
    "    - \"Zeus_Ares\"\n",
    "\n",
    "- BOTNET:\n",
    "    - \"Neris\"\n",
    "    - \"Rbot\"\n",
    "    - \"Virut\"\n",
    "    - \"Menti\"\n",
    "    - \"Murlo\""
   ]
  },
  {
   "cell_type": "code",
   "execution_count": 2,
   "metadata": {},
   "outputs": [],
   "source": [
    "model = RandomForestClassifier(n_estimators = 100, n_jobs = -1)"
   ]
  },
  {
   "cell_type": "code",
   "execution_count": 3,
   "metadata": {},
   "outputs": [],
   "source": [
    "# Select here the Dataset and the botnet\n",
    "ds = \"CTU\"\n",
    "botnet = \"Neris\""
   ]
  },
  {
   "cell_type": "code",
   "execution_count": 5,
   "metadata": {},
   "outputs": [
    {
     "name": "stdout",
     "output_type": "stream",
     "text": [
      "2582434\n"
     ]
    }
   ],
   "source": [
    "# Get benign samples from the selected dataset ds\n",
    "ben = pd.read_csv(\"DReLAB/{}/benign.csv\".format(ds), index_col = 0)\n",
    "\n",
    "n_ben = len(ben)\n",
    "print(n_ben)"
   ]
  },
  {
   "cell_type": "code",
   "execution_count": 6,
   "metadata": {},
   "outputs": [
    {
     "name": "stdout",
     "output_type": "stream",
     "text": [
      "60632\n"
     ]
    }
   ],
   "source": [
    "# Get malicious samples belonging to the chosen botnet from the selected dataset\n",
    "mal = pd.read_csv(\"DReLAB/{}/malicious/{}.csv\".format(ds, botnet), index_col = 0)\n",
    "n_mal = len(mal)\n",
    "print(n_mal)"
   ]
  },
  {
   "cell_type": "code",
   "execution_count": 8,
   "metadata": {},
   "outputs": [
    {
     "name": "stdout",
     "output_type": "stream",
     "text": [
      "Benign in dataset: 1212640\n",
      "Malicious in dataset: 60632\n",
      "Ben / Mal Ratio: 20.0\n"
     ]
    }
   ],
   "source": [
    "# Obtain the dataset in a 20:1 benign/malicious ratio\n",
    "\n",
    "if (n_ben // 20) >= n_mal:\n",
    "    dataset_ben = ben.sample(n_mal * 20)\n",
    "    dataset = pd.concat([dataset_ben, mal], ignore_index = True)\n",
    "    print(\"Benign in dataset: {}\".format(len(dataset_ben)))\n",
    "    print(\"Malicious in dataset: {}\".format(len(mal)))\n",
    "    print(\"Ben / Mal Ratio: {}\".format(len(dataset_ben) / len(mal)))\n",
    "else:\n",
    "    dataset_mal = mal.sample(n_ben // 20)\n",
    "    dataset = pd.concat([ben, dataset_mal], ignore_index = True)\n",
    "    print(\"Benign in dataset: {}\".format(len(ben)))\n",
    "    print(\"Malicious in dataset: {}\".format(len(dataset_mal)))\n",
    "    print(\"Ben / Mal Ratio: {}\".format(len(ben) / len(dataset_mal)))"
   ]
  },
  {
   "cell_type": "code",
   "execution_count": 9,
   "metadata": {},
   "outputs": [
    {
     "data": {
      "text/html": [
       "<div>\n",
       "<style scoped>\n",
       "    .dataframe tbody tr th:only-of-type {\n",
       "        vertical-align: middle;\n",
       "    }\n",
       "\n",
       "    .dataframe tbody tr th {\n",
       "        vertical-align: top;\n",
       "    }\n",
       "\n",
       "    .dataframe thead th {\n",
       "        text-align: right;\n",
       "    }\n",
       "</style>\n",
       "<table border=\"1\" class=\"dataframe\">\n",
       "  <thead>\n",
       "    <tr style=\"text-align: right;\">\n",
       "      <th></th>\n",
       "      <th>IPSrcType</th>\n",
       "      <th>IPDstType</th>\n",
       "      <th>Dur</th>\n",
       "      <th>Proto</th>\n",
       "      <th>sTos</th>\n",
       "      <th>dTos</th>\n",
       "      <th>OutBytes</th>\n",
       "      <th>InBytes</th>\n",
       "      <th>TotPkts</th>\n",
       "      <th>TotBytes</th>\n",
       "      <th>...</th>\n",
       "      <th>&gt;</th>\n",
       "      <th>&lt;-</th>\n",
       "      <th>&lt;-&gt;</th>\n",
       "      <th>SrcPort_Private</th>\n",
       "      <th>SrcPort_Registered</th>\n",
       "      <th>SrcPort_Well_Known</th>\n",
       "      <th>DstPort_Private</th>\n",
       "      <th>DstPort_Registered</th>\n",
       "      <th>DstPort_Well_Known</th>\n",
       "      <th>Label</th>\n",
       "    </tr>\n",
       "  </thead>\n",
       "  <tbody>\n",
       "    <tr>\n",
       "      <th>0</th>\n",
       "      <td>1</td>\n",
       "      <td>0</td>\n",
       "      <td>15.074506</td>\n",
       "      <td>0</td>\n",
       "      <td>0.0</td>\n",
       "      <td>0.0</td>\n",
       "      <td>246</td>\n",
       "      <td>126</td>\n",
       "      <td>6</td>\n",
       "      <td>372</td>\n",
       "      <td>...</td>\n",
       "      <td>0</td>\n",
       "      <td>0.0</td>\n",
       "      <td>0</td>\n",
       "      <td>1</td>\n",
       "      <td>0</td>\n",
       "      <td>0</td>\n",
       "      <td>0</td>\n",
       "      <td>0</td>\n",
       "      <td>1</td>\n",
       "      <td>0</td>\n",
       "    </tr>\n",
       "    <tr>\n",
       "      <th>1</th>\n",
       "      <td>0</td>\n",
       "      <td>1</td>\n",
       "      <td>0.635263</td>\n",
       "      <td>0</td>\n",
       "      <td>0.0</td>\n",
       "      <td>0.0</td>\n",
       "      <td>124</td>\n",
       "      <td>120</td>\n",
       "      <td>4</td>\n",
       "      <td>244</td>\n",
       "      <td>...</td>\n",
       "      <td>0</td>\n",
       "      <td>0.0</td>\n",
       "      <td>0</td>\n",
       "      <td>1</td>\n",
       "      <td>0</td>\n",
       "      <td>0</td>\n",
       "      <td>0</td>\n",
       "      <td>1</td>\n",
       "      <td>0</td>\n",
       "      <td>0</td>\n",
       "    </tr>\n",
       "    <tr>\n",
       "      <th>2</th>\n",
       "      <td>0</td>\n",
       "      <td>1</td>\n",
       "      <td>15.188370</td>\n",
       "      <td>0</td>\n",
       "      <td>0.0</td>\n",
       "      <td>0.0</td>\n",
       "      <td>1840</td>\n",
       "      <td>7840</td>\n",
       "      <td>18</td>\n",
       "      <td>9680</td>\n",
       "      <td>...</td>\n",
       "      <td>0</td>\n",
       "      <td>0.0</td>\n",
       "      <td>0</td>\n",
       "      <td>0</td>\n",
       "      <td>1</td>\n",
       "      <td>0</td>\n",
       "      <td>0</td>\n",
       "      <td>0</td>\n",
       "      <td>1</td>\n",
       "      <td>0</td>\n",
       "    </tr>\n",
       "    <tr>\n",
       "      <th>3</th>\n",
       "      <td>1</td>\n",
       "      <td>0</td>\n",
       "      <td>11.415746</td>\n",
       "      <td>0</td>\n",
       "      <td>0.0</td>\n",
       "      <td>0.0</td>\n",
       "      <td>1441</td>\n",
       "      <td>28834</td>\n",
       "      <td>40</td>\n",
       "      <td>30275</td>\n",
       "      <td>...</td>\n",
       "      <td>0</td>\n",
       "      <td>0.0</td>\n",
       "      <td>0</td>\n",
       "      <td>1</td>\n",
       "      <td>0</td>\n",
       "      <td>0</td>\n",
       "      <td>0</td>\n",
       "      <td>0</td>\n",
       "      <td>1</td>\n",
       "      <td>0</td>\n",
       "    </tr>\n",
       "    <tr>\n",
       "      <th>4</th>\n",
       "      <td>0</td>\n",
       "      <td>1</td>\n",
       "      <td>9.029517</td>\n",
       "      <td>0</td>\n",
       "      <td>0.0</td>\n",
       "      <td>0.0</td>\n",
       "      <td>234</td>\n",
       "      <td>0</td>\n",
       "      <td>3</td>\n",
       "      <td>234</td>\n",
       "      <td>...</td>\n",
       "      <td>0</td>\n",
       "      <td>0.0</td>\n",
       "      <td>0</td>\n",
       "      <td>0</td>\n",
       "      <td>1</td>\n",
       "      <td>0</td>\n",
       "      <td>0</td>\n",
       "      <td>1</td>\n",
       "      <td>0</td>\n",
       "      <td>0</td>\n",
       "    </tr>\n",
       "  </tbody>\n",
       "</table>\n",
       "<p>5 rows × 39 columns</p>\n",
       "</div>"
      ],
      "text/plain": [
       "   IPSrcType  IPDstType        Dur  Proto  sTos  dTos  OutBytes  InBytes  \\\n",
       "0          1          0  15.074506      0   0.0   0.0       246      126   \n",
       "1          0          1   0.635263      0   0.0   0.0       124      120   \n",
       "2          0          1  15.188370      0   0.0   0.0      1840     7840   \n",
       "3          1          0  11.415746      0   0.0   0.0      1441    28834   \n",
       "4          0          1   9.029517      0   0.0   0.0       234        0   \n",
       "\n",
       "   TotPkts  TotBytes  ...  >   <-  <->  SrcPort_Private  SrcPort_Registered  \\\n",
       "0        6       372  ...  0  0.0    0                1                   0   \n",
       "1        4       244  ...  0  0.0    0                1                   0   \n",
       "2       18      9680  ...  0  0.0    0                0                   1   \n",
       "3       40     30275  ...  0  0.0    0                1                   0   \n",
       "4        3       234  ...  0  0.0    0                0                   1   \n",
       "\n",
       "   SrcPort_Well_Known  DstPort_Private  DstPort_Registered  \\\n",
       "0                   0                0                   0   \n",
       "1                   0                0                   1   \n",
       "2                   0                0                   0   \n",
       "3                   0                0                   0   \n",
       "4                   0                0                   1   \n",
       "\n",
       "   DstPort_Well_Known  Label  \n",
       "0                   1      0  \n",
       "1                   0      0  \n",
       "2                   1      0  \n",
       "3                   1      0  \n",
       "4                   0      0  \n",
       "\n",
       "[5 rows x 39 columns]"
      ]
     },
     "execution_count": 9,
     "metadata": {},
     "output_type": "execute_result"
    }
   ],
   "source": [
    "dataset.head()"
   ]
  },
  {
   "cell_type": "code",
   "execution_count": 10,
   "metadata": {},
   "outputs": [
    {
     "data": {
      "text/plain": [
       "RandomForestClassifier(bootstrap=True, class_weight=None, criterion='gini',\n",
       "                       max_depth=None, max_features='auto', max_leaf_nodes=None,\n",
       "                       min_impurity_decrease=0.0, min_impurity_split=None,\n",
       "                       min_samples_leaf=1, min_samples_split=2,\n",
       "                       min_weight_fraction_leaf=0.0, n_estimators=100,\n",
       "                       n_jobs=-1, oob_score=False, random_state=None, verbose=0,\n",
       "                       warm_start=False)"
      ]
     },
     "execution_count": 10,
     "metadata": {},
     "output_type": "execute_result"
    }
   ],
   "source": [
    "# Training the model\n",
    "\n",
    "X_train, X_test, y_train, y_test = train_test_split(dataset.drop(columns = [\"Label\"]), dataset.Label, shuffle = True)\n",
    "\n",
    "model.fit(X_train, y_train)"
   ]
  },
  {
   "cell_type": "code",
   "execution_count": 11,
   "metadata": {},
   "outputs": [],
   "source": [
    "# Obtain predictions\n",
    "\n",
    "pred = model.predict(X_test)"
   ]
  },
  {
   "cell_type": "code",
   "execution_count": 12,
   "metadata": {},
   "outputs": [
    {
     "name": "stdout",
     "output_type": "stream",
     "text": [
      "F1 score: 0.9468845418246485\n",
      "Precision Score: 0.9597333696095769\n",
      "Recall Score (Detection Rate): 0.9343752069399378\n"
     ]
    }
   ],
   "source": [
    "# Compute f1, precision and recall score.\n",
    "\n",
    "f1 = f1_score(y_test, pred)\n",
    "prec = precision_score(y_test, pred)\n",
    "recall = recall_score(y_test, pred)\n",
    "\n",
    "print(\"F1 score: {}\".format(f1))\n",
    "print(\"Precision Score: {}\".format(prec))\n",
    "print(\"Recall Score (Detection Rate): {}\".format(recall))"
   ]
  },
  {
   "cell_type": "markdown",
   "metadata": {},
   "source": [
    "***\n",
    "\n",
    "# Adversarial Evasion\n",
    "\n",
    "### In this phase we extract the adversarial samples from the DReLAB dataset belonging to the preselected botnet family. We then submit such adversarial samples to the previously trained detector and the Detection Rate will severely drop with respect to the Detection Rate obtained in absence of adversarial attacks.\n",
    "\n",
    "### Possible Deep Reinforcement Learning agent choices: **\"DDQN\" (Double Deep Q-Network) and \"SARSA\" (Deep Sarsa)**\n",
    "**Note: As we use different baseline classifiers from the ones used in the research paper, the Detection Rate might not be zero**"
   ]
  },
  {
   "cell_type": "code",
   "execution_count": 13,
   "metadata": {},
   "outputs": [],
   "source": [
    "# Select Deep Reinforcement Learning agent.\n",
    "drl_agent = \"DDQN\""
   ]
  },
  {
   "cell_type": "code",
   "execution_count": 14,
   "metadata": {},
   "outputs": [],
   "source": [
    "# Get adversarial samples from \n",
    "adversarial = pd.read_csv(\"DReLAB/{}/RF/{}/{}.csv\".format(ds, drl_agent, botnet), index_col = 0)\n",
    "adversarial.Label = 1"
   ]
  },
  {
   "cell_type": "code",
   "execution_count": 15,
   "metadata": {},
   "outputs": [
    {
     "data": {
      "text/html": [
       "<div>\n",
       "<style scoped>\n",
       "    .dataframe tbody tr th:only-of-type {\n",
       "        vertical-align: middle;\n",
       "    }\n",
       "\n",
       "    .dataframe tbody tr th {\n",
       "        vertical-align: top;\n",
       "    }\n",
       "\n",
       "    .dataframe thead th {\n",
       "        text-align: right;\n",
       "    }\n",
       "</style>\n",
       "<table border=\"1\" class=\"dataframe\">\n",
       "  <thead>\n",
       "    <tr style=\"text-align: right;\">\n",
       "      <th></th>\n",
       "      <th>IPSrcType</th>\n",
       "      <th>IPDstType</th>\n",
       "      <th>Dur</th>\n",
       "      <th>Proto</th>\n",
       "      <th>sTos</th>\n",
       "      <th>dTos</th>\n",
       "      <th>OutBytes</th>\n",
       "      <th>InBytes</th>\n",
       "      <th>TotPkts</th>\n",
       "      <th>TotBytes</th>\n",
       "      <th>...</th>\n",
       "      <th>&lt;-</th>\n",
       "      <th>&lt;-&gt;</th>\n",
       "      <th>SrcPort_Private</th>\n",
       "      <th>SrcPort_Registered</th>\n",
       "      <th>SrcPort_Well_Known</th>\n",
       "      <th>DstPort_Private</th>\n",
       "      <th>DstPort_Registered</th>\n",
       "      <th>DstPort_Well_Known</th>\n",
       "      <th>n_actions</th>\n",
       "      <th>Label</th>\n",
       "    </tr>\n",
       "  </thead>\n",
       "  <tbody>\n",
       "    <tr>\n",
       "      <th>0</th>\n",
       "      <td>1.0</td>\n",
       "      <td>0.0</td>\n",
       "      <td>0.045125</td>\n",
       "      <td>0.0</td>\n",
       "      <td>0.0</td>\n",
       "      <td>0.0</td>\n",
       "      <td>629.0</td>\n",
       "      <td>253.0</td>\n",
       "      <td>9.0</td>\n",
       "      <td>882.0</td>\n",
       "      <td>...</td>\n",
       "      <td>0.0</td>\n",
       "      <td>0.0</td>\n",
       "      <td>0.0</td>\n",
       "      <td>1.0</td>\n",
       "      <td>0.0</td>\n",
       "      <td>0.0</td>\n",
       "      <td>0.0</td>\n",
       "      <td>1.0</td>\n",
       "      <td>1.0</td>\n",
       "      <td>1</td>\n",
       "    </tr>\n",
       "    <tr>\n",
       "      <th>1</th>\n",
       "      <td>1.0</td>\n",
       "      <td>0.0</td>\n",
       "      <td>0.216252</td>\n",
       "      <td>0.0</td>\n",
       "      <td>0.0</td>\n",
       "      <td>0.0</td>\n",
       "      <td>1046.0</td>\n",
       "      <td>26944.0</td>\n",
       "      <td>39.0</td>\n",
       "      <td>27990.0</td>\n",
       "      <td>...</td>\n",
       "      <td>0.0</td>\n",
       "      <td>0.0</td>\n",
       "      <td>0.0</td>\n",
       "      <td>1.0</td>\n",
       "      <td>0.0</td>\n",
       "      <td>0.0</td>\n",
       "      <td>0.0</td>\n",
       "      <td>1.0</td>\n",
       "      <td>1.0</td>\n",
       "      <td>1</td>\n",
       "    </tr>\n",
       "    <tr>\n",
       "      <th>2</th>\n",
       "      <td>1.0</td>\n",
       "      <td>0.0</td>\n",
       "      <td>30.568064</td>\n",
       "      <td>0.0</td>\n",
       "      <td>0.0</td>\n",
       "      <td>0.0</td>\n",
       "      <td>1897.0</td>\n",
       "      <td>58383.0</td>\n",
       "      <td>82.0</td>\n",
       "      <td>60280.0</td>\n",
       "      <td>...</td>\n",
       "      <td>0.0</td>\n",
       "      <td>0.0</td>\n",
       "      <td>0.0</td>\n",
       "      <td>1.0</td>\n",
       "      <td>0.0</td>\n",
       "      <td>0.0</td>\n",
       "      <td>1.0</td>\n",
       "      <td>0.0</td>\n",
       "      <td>20.0</td>\n",
       "      <td>1</td>\n",
       "    </tr>\n",
       "    <tr>\n",
       "      <th>3</th>\n",
       "      <td>1.0</td>\n",
       "      <td>0.0</td>\n",
       "      <td>23.535808</td>\n",
       "      <td>0.0</td>\n",
       "      <td>0.0</td>\n",
       "      <td>0.0</td>\n",
       "      <td>1962.0</td>\n",
       "      <td>39889.0</td>\n",
       "      <td>96.0</td>\n",
       "      <td>41851.0</td>\n",
       "      <td>...</td>\n",
       "      <td>0.0</td>\n",
       "      <td>0.0</td>\n",
       "      <td>0.0</td>\n",
       "      <td>1.0</td>\n",
       "      <td>0.0</td>\n",
       "      <td>0.0</td>\n",
       "      <td>0.0</td>\n",
       "      <td>1.0</td>\n",
       "      <td>19.0</td>\n",
       "      <td>1</td>\n",
       "    </tr>\n",
       "    <tr>\n",
       "      <th>4</th>\n",
       "      <td>1.0</td>\n",
       "      <td>0.0</td>\n",
       "      <td>0.758234</td>\n",
       "      <td>0.0</td>\n",
       "      <td>0.0</td>\n",
       "      <td>0.0</td>\n",
       "      <td>611.0</td>\n",
       "      <td>1978.0</td>\n",
       "      <td>13.0</td>\n",
       "      <td>2589.0</td>\n",
       "      <td>...</td>\n",
       "      <td>0.0</td>\n",
       "      <td>0.0</td>\n",
       "      <td>0.0</td>\n",
       "      <td>1.0</td>\n",
       "      <td>0.0</td>\n",
       "      <td>0.0</td>\n",
       "      <td>0.0</td>\n",
       "      <td>1.0</td>\n",
       "      <td>2.0</td>\n",
       "      <td>1</td>\n",
       "    </tr>\n",
       "  </tbody>\n",
       "</table>\n",
       "<p>5 rows × 40 columns</p>\n",
       "</div>"
      ],
      "text/plain": [
       "   IPSrcType  IPDstType        Dur  Proto  sTos  dTos  OutBytes  InBytes  \\\n",
       "0        1.0        0.0   0.045125    0.0   0.0   0.0     629.0    253.0   \n",
       "1        1.0        0.0   0.216252    0.0   0.0   0.0    1046.0  26944.0   \n",
       "2        1.0        0.0  30.568064    0.0   0.0   0.0    1897.0  58383.0   \n",
       "3        1.0        0.0  23.535808    0.0   0.0   0.0    1962.0  39889.0   \n",
       "4        1.0        0.0   0.758234    0.0   0.0   0.0     611.0   1978.0   \n",
       "\n",
       "   TotPkts  TotBytes  ...   <-  <->  SrcPort_Private  SrcPort_Registered  \\\n",
       "0      9.0     882.0  ...  0.0  0.0              0.0                 1.0   \n",
       "1     39.0   27990.0  ...  0.0  0.0              0.0                 1.0   \n",
       "2     82.0   60280.0  ...  0.0  0.0              0.0                 1.0   \n",
       "3     96.0   41851.0  ...  0.0  0.0              0.0                 1.0   \n",
       "4     13.0    2589.0  ...  0.0  0.0              0.0                 1.0   \n",
       "\n",
       "   SrcPort_Well_Known  DstPort_Private  DstPort_Registered  \\\n",
       "0                 0.0              0.0                 0.0   \n",
       "1                 0.0              0.0                 0.0   \n",
       "2                 0.0              0.0                 1.0   \n",
       "3                 0.0              0.0                 0.0   \n",
       "4                 0.0              0.0                 0.0   \n",
       "\n",
       "   DstPort_Well_Known  n_actions  Label  \n",
       "0                 1.0        1.0      1  \n",
       "1                 1.0        1.0      1  \n",
       "2                 0.0       20.0      1  \n",
       "3                 1.0       19.0      1  \n",
       "4                 1.0        2.0      1  \n",
       "\n",
       "[5 rows x 40 columns]"
      ]
     },
     "execution_count": 15,
     "metadata": {},
     "output_type": "execute_result"
    }
   ],
   "source": [
    "adversarial.head()"
   ]
  },
  {
   "cell_type": "code",
   "execution_count": 16,
   "metadata": {},
   "outputs": [],
   "source": [
    "# Obtain predicitions\n",
    "adv_pred = model.predict(adversarial.drop(columns = [\"n_actions\", \"Label\"]))"
   ]
  },
  {
   "cell_type": "code",
   "execution_count": 17,
   "metadata": {},
   "outputs": [
    {
     "name": "stdout",
     "output_type": "stream",
     "text": [
      "Recall Score (Detection Rate): 0.28667271389207416\n"
     ]
    }
   ],
   "source": [
    "# Compute Recall (Detection Rate) score on adversarial samples.\n",
    "\n",
    "adv_true = adversarial.Label\n",
    "\n",
    "adv_recall = recall_score(adv_true, adv_pred)\n",
    "print(\"Recall Score (Detection Rate): {}\".format(adv_recall))"
   ]
  },
  {
   "cell_type": "code",
   "execution_count": 39,
   "metadata": {},
   "outputs": [
    {
     "data": {
      "image/png": "[encoded data removed]",
      "text/plain": [
       "<Figure size 432x288 with 1 Axes>"
      ]
     },
     "metadata": {
      "needs_background": "light"
     },
     "output_type": "display_data"
    }
   ],
   "source": [
    "# Matplotlib barplot visualization\n",
    "\n",
    "fig = plt.figure()\n",
    "ax = fig.add_axes([0, 0, 1, 1])\n",
    "lab = [\"Original DR\", \"Adversarial DR\"]\n",
    "dr = [recall, adv_recall]\n",
    "ax.bar(lab, dr, color = [\"green\", \"red\"], width = 0.5)\n",
    "ax = ax.set(ylim = (0, 1))\n",
    "plt.show()"
   ]
  }
 ],
 "metadata": {
  "kernelspec": {
   "display_name": "Python 3",
   "language": "python",
   "name": "python3"
  },
  "language_info": {
   "codemirror_mode": {
    "name": "ipython",
    "version": 3
   },
   "file_extension": ".py",
   "mimetype": "text/x-python",
   "name": "python",
   "nbconvert_exporter": "python",
   "pygments_lexer": "ipython3",
   "version": "3.7.3"
  }
 },
 "nbformat": 4,
 "nbformat_minor": 4
}
